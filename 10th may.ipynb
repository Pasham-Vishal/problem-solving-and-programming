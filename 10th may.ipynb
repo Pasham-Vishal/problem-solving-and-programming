{
 "cells": [
  {
   "cell_type": "markdown",
   "metadata": {},
   "source": [
    "# problem 1\n",
    "\n",
    "\n",
    "## problem statement\n",
    "\n",
    "\n",
    "towers of hanoi\n",
    "\n",
    "# testcases\n",
    "\n",
    "\n",
    " test case1\n",
    " test case2\n",
    " test case3\n",
    " "
   ]
  },
  {
   "cell_type": "code",
   "execution_count": 5,
   "metadata": {},
   "outputs": [
    {
     "name": "stdout",
     "output_type": "stream",
     "text": [
      "Move  1 disk from  A to  C\n",
      "Move  2 disk from  A to  B\n",
      "Move  1 disk from  C to  B\n",
      "Move  3 disk from  A to  C\n",
      "Move  1 disk from  B to  A\n",
      "Move  2 disk from  B to  C\n",
      "Move  1 disk from  A to  C\n"
     ]
    }
   ],
   "source": [
    "def towersOfHanoi(n,source,temp,dest):\n",
    "    if n==1:\n",
    "        print('Move ',n, 'disk from ',source,'to ',dest)\n",
    "        return\n",
    "    else:\n",
    "        towersOfHanoi(n-1,source,dest,temp)\n",
    "        print('Move ',n,'disk from ',source, 'to ',dest)\n",
    "        towersOfHanoi(n-1,temp,source,dest)\n",
    "        return\n",
    "towersOfHanoi(3,'A','B','C')\n"
   ]
  },
  {
   "cell_type": "markdown",
   "metadata": {},
   "source": [
    "## problem 2\n",
    "## problem statement\n",
    "Generating the nth Fibonacci number\n",
    "\n",
    "## testcases\n",
    "\n"
   ]
  },
  {
   "cell_type": "code",
   "execution_count": 6,
   "metadata": {},
   "outputs": [
    {
     "name": "stdout",
     "output_type": "stream",
     "text": [
      "1\n",
      "34\n",
      "0\n"
     ]
    }
   ],
   "source": [
    "def Nfibo(n):\n",
    "    if(n==1):\n",
    "        return 0\n",
    "    elif(n==2):\n",
    "        return 1\n",
    "    else:\n",
    "        return Nfibo(n-1)+Nfibo(n-2)\n",
    "print(Nfibo(3))\n",
    "print(Nfibo(10))\n",
    "print(Nfibo(1))"
   ]
  },
  {
   "cell_type": "markdown",
   "metadata": {},
   "source": [
    "# problem 3\n",
    "\n",
    "## problemstatement\n",
    "\n",
    "foactorial of a guiven number using recursive\n",
    "\n",
    "\n",
    "### test cases\n",
    "\n",
    "factorial(5)->120\n",
    "factorial(6)->720\n"
   ]
  },
  {
   "cell_type": "code",
   "execution_count": 8,
   "metadata": {},
   "outputs": [
    {
     "name": "stdout",
     "output_type": "stream",
     "text": [
      "120\n",
      "720\n"
     ]
    }
   ],
   "source": [
    "def factorial(n1):\n",
    "    if(n1==1):\n",
    "        return n1\n",
    "    else:\n",
    "        return factorial(n1-1)*n1\n",
    "print(factorial(5))\n",
    "print(factorial(6))"
   ]
  },
  {
   "cell_type": "markdown",
   "metadata": {},
   "source": [
    "# problem 4\n",
    "## problem statement\n",
    "power of number using iteration\n",
    "# testcases\n",
    "power(2,10)\n"
   ]
  },
  {
   "cell_type": "code",
   "execution_count": 10,
   "metadata": {},
   "outputs": [
    {
     "data": {
      "text/plain": [
       "1024"
      ]
     },
     "execution_count": 10,
     "metadata": {},
     "output_type": "execute_result"
    }
   ],
   "source": [
    "def power(n,r):\n",
    "    prod=1\n",
    "    for i in range(1,r+1):\n",
    "        prod *=n\n",
    "    return prod\n",
    "power(2,10)"
   ]
  },
  {
   "cell_type": "markdown",
   "metadata": {},
   "source": [
    "# problem 5\n",
    " \n",
    "## problem statement\n",
    " GCD using recursive\n",
    " ### constarints: integer\n",
    " \n",
    " \n",
    " \n",
    "#  test cases\n",
    "gcdrecursive(12,39)\n"
   ]
  },
  {
   "cell_type": "code",
   "execution_count": 13,
   "metadata": {},
   "outputs": [
    {
     "data": {
      "text/plain": [
       "3"
      ]
     },
     "execution_count": 13,
     "metadata": {},
     "output_type": "execute_result"
    }
   ],
   "source": [
    "def gcdrecursive(a,b):\n",
    "    if(b%a==0):\n",
    "        return a\n",
    "    else:\n",
    "        return gcdrecursive(b%a,a)\n",
    "gcdrecursive(12,39)\n"
   ]
  },
  {
   "cell_type": "markdown",
   "metadata": {},
   "source": [
    "# problem 6\n",
    "## problem statement\n",
    "\n",
    " \n",
    " \n",
    " Define a function to convert a binary number to the corresponding decimal number\n",
    " \n",
    " \n",
    " ### testcases\n",
    " \n",
    "\n",
    "binaryToDecimal(1100) -> 12\n",
    "binaryToDecimal(1010) -> 10\n",
    "binaryToDecimal(111000) -> 56\n",
    " "
   ]
  },
  {
   "cell_type": "code",
   "execution_count": 16,
   "metadata": {},
   "outputs": [
    {
     "name": "stdout",
     "output_type": "stream",
     "text": [
      "Enter any decimal number: 3\n",
      "11"
     ]
    }
   ],
   "source": [
    "def decimalToBinary(num):\n",
    "    if num > 1:\n",
    "        decimalToBinary(num // 2)\n",
    "    print(num % 2, end='')\n",
    "number = int(input(\"Enter any decimal number: \"))\n",
    "\n",
    "decimalToBinary(number)"
   ]
  },
  {
   "cell_type": "code",
   "execution_count": null,
   "metadata": {},
   "outputs": [],
   "source": []
  }
 ],
 "metadata": {
  "kernelspec": {
   "display_name": "Python 3",
   "language": "python",
   "name": "python3"
  },
  "language_info": {
   "codemirror_mode": {
    "name": "ipython",
    "version": 3
   },
   "file_extension": ".py",
   "mimetype": "text/x-python",
   "name": "python",
   "nbconvert_exporter": "python",
   "pygments_lexer": "ipython3",
   "version": "3.7.3"
  }
 },
 "nbformat": 4,
 "nbformat_minor": 2
}
