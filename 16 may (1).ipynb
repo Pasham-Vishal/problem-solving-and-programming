{
 "cells": [
  {
   "cell_type": "code",
   "execution_count": 1,
   "metadata": {},
   "outputs": [],
   "source": [
    "def readfileData(filename):\n",
    "    f=open(filename,'r')\n",
    "    filedata=f.readline()\n",
    "    filedata+=f.readline()\n",
    "    f.close()\n",
    "    return filedata\n",
    "\n",
    "readfileData('Data files/data.txt')"
   ]
  },
  {
   "cell_type": "code",
   "execution_count": 2,
   "metadata": {},
   "outputs": [],
   "source": [
    "def readfileData(filename):\n",
    "    with open(filename,'r') as f:\n",
    "        for line in f:\n",
    "            print(line,end='')\n",
    "    return \n",
    "readfileData('Data files/data.txt')"
   ]
  },
  {
   "cell_type": "code",
   "execution_count": 3,
   "metadata": {},
   "outputs": [
    {
     "name": "stdout",
     "output_type": "stream",
     "text": [
      "data in line 1\n",
      "data in line 2\n",
      "data in line 3\n"
     ]
    }
   ],
   "source": [
    "def readfileData(filename):\n",
    "    with open(filename,'r') as f:\n",
    "        #for line in f:\n",
    "            #print(line,end='')\n",
    "        print(f.read())\n",
    "    return \n",
    "readfileData('Data files/data.txt')"
   ]
  },
  {
   "cell_type": "code",
   "execution_count": 4,
   "metadata": {},
   "outputs": [],
   "source": [
    "def writeIntoFile(filename,data):\n",
    "    with open (filename,'w') as f:\n",
    "        f.write(data)\n",
    "    return\n",
    "\n",
    "writeIntoFile('Data files/fileWrite.txt','data written into fileName')"
   ]
  },
  {
   "cell_type": "code",
   "execution_count": 5,
   "metadata": {},
   "outputs": [],
   "source": [
    "def writeIntoFile(filename,data,mode):\n",
    "    with open (filename,'a') as f:\n",
    "        f.write(data)\n",
    "    return\n",
    "\n",
    "writeIntoFile('Data files/fileWrite.txt','\\nsecond line','a')"
   ]
  },
  {
   "cell_type": "code",
   "execution_count": 6,
   "metadata": {},
   "outputs": [
    {
     "data": {
      "text/plain": [
       "['data written into fileName\\n', 'second line']"
      ]
     },
     "execution_count": 6,
     "metadata": {},
     "output_type": "execute_result"
    }
   ],
   "source": [
    "def readfileData(filename):\n",
    "    li=[]\n",
    "    with open(filename,'r') as f:\n",
    "        for line in f:\n",
    "            li.append(line)\n",
    "    return li\n",
    "    \n",
    "readfileData('Data files/fileWrite.txt')"
   ]
  },
  {
   "cell_type": "markdown",
   "metadata": {},
   "source": [
    "# Problem 1:\n",
    "# Problem Statement:    \n",
    "define a function to generate a marks data file for 1300 students such that each marks is entered in a new line.marks range from 0 to 100 as a ramdom numbers\n",
    "# CONSTRAINTS:\n",
    " \n",
    "\n",
    "\n",
    "* Test cases:\n",
    "Test cases 1\n",
    "Test cases 2\n",
    "Test cases 3"
   ]
  },
  {
   "cell_type": "code",
   "execution_count": 7,
   "metadata": {},
   "outputs": [],
   "source": [
    "import random\n",
    "def generateMarksData(n,filename):\n",
    "    with open (filename,'w') as marksfile:\n",
    "        for i in range(0,n):\n",
    "            marks=random.randint(0,100)\n",
    "            marksfile.write(str(marks)+'\\n')\n",
    "    return\n",
    "generateMarksData(1301,'Data files\\marksData.txt')"
   ]
  },
  {
   "cell_type": "code",
   "execution_count": 8,
   "metadata": {},
   "outputs": [
    {
     "name": "stdout",
     "output_type": "stream",
     "text": [
      "[30. 53. 92. ... 39. 37. 25.]\n",
      "Average: 49.905457340507304\n",
      "highest: 100.0\n",
      "lowest: 0.0\n"
     ]
    },
    {
     "data": {
      "text/plain": [
       "0.013174527000000325"
      ]
     },
     "execution_count": 8,
     "metadata": {},
     "output_type": "execute_result"
    }
   ],
   "source": [
    "import re,timeit\n",
    "import numpy as n\n",
    "def array(filename):\n",
    "            start=timeit.default_timer()\n",
    "            x = n.loadtxt(filename)\n",
    "            print(x)\n",
    "            print('Average:', n.average(x))\n",
    "            print('highest:', n.max(x))\n",
    "            print('lowest:', n.min(x))\n",
    "            return timeit.default_timer()-start\n",
    "            return        \n",
    "array('Data files\\marksData.txt')"
   ]
  },
  {
   "cell_type": "code",
   "execution_count": 9,
   "metadata": {},
   "outputs": [
    {
     "data": {
      "text/plain": [
       "[1.0, 2.0, 3.0, 4.0, 5.0, 6.0]"
      ]
     },
     "execution_count": 9,
     "metadata": {},
     "output_type": "execute_result"
    }
   ],
   "source": [
    "def square(n):\n",
    "    return n*n\n",
    "li=[1,2,3,4,5,6,]\n",
    "#s = str(li)\n",
    "s=list(map(str,li))\n",
    "\n",
    "s=[float(i) for i in s]\n",
    "s"
   ]
  },
  {
   "cell_type": "code",
   "execution_count": 11,
   "metadata": {},
   "outputs": [
    {
     "name": "stdout",
     "output_type": "stream",
     "text": [
      "<class 'int'>\n",
      "0.002011030999998553\n",
      "272\n",
      "509\n"
     ]
    }
   ],
   "source": [
    "import timeit \n",
    "def gen(filename):\n",
    "    start=timeit.default_timer()\n",
    "    marksdata=readfileData(filename)\n",
    "    marksdata=list(map(int,marksdata[:len(marksdata)-1]))\n",
    "    print(type(marksdata[-1]))\n",
    "    print(timeit.default_timer()-start)\n",
    "    return marksdata\n",
    "\n",
    "marksdata=gen('Data files\\marksData.txt')\n",
    "\n",
    "def distiction(mark):\n",
    "    return mark >=80\n",
    "dis=sum(map(distiction,marksdata))\n",
    "print(dis)\n",
    "\n",
    "failed=sum(1 for i in marksdata if i< 40)\n",
    "print(failed)"
   ]
  },
  {
   "cell_type": "code",
   "execution_count": null,
   "metadata": {},
   "outputs": [],
   "source": []
  }
 ],
 "metadata": {
  "kernelspec": {
   "display_name": "Python 3",
   "language": "python",
   "name": "python3"
  },
  "language_info": {
   "codemirror_mode": {
    "name": "ipython",
    "version": 3
   },
   "file_extension": ".py",
   "mimetype": "text/x-python",
   "name": "python",
   "nbconvert_exporter": "python",
   "pygments_lexer": "ipython3",
   "version": "3.7.3"
  }
 },
 "nbformat": 4,
 "nbformat_minor": 2
}
