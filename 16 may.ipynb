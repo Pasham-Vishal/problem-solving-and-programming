{
 "cells": [
  {
   "cell_type": "markdown",
   "metadata": {},
   "source": [
    "## PROBLEM SOLVING AND PROGRAMMING \n",
    "\n",
    "\n",
    "### DAY No-13\n",
    "### DATE- 16TH MAY, 2019"
   ]
  },
  {
   "cell_type": "markdown",
   "metadata": {},
   "source": [
    "## NOTES\n",
    "\n",
    "### DAY OBJECTIVES\n",
    "\n",
    "* Objective 1:File Handilling\n",
    "\n",
    "* Objective 2:External Libaries\n",
    "\n",
    "* Objective 3:Functional \n",
    "\n",
    "\n"
   ]
  },
  {
   "cell_type": "code",
   "execution_count": 14,
   "metadata": {},
   "outputs": [
    {
     "data": {
      "text/plain": [
       "'Data in line 1\\nData in line 2\\n'"
      ]
     },
     "execution_count": 14,
     "metadata": {},
     "output_type": "execute_result"
    }
   ],
   "source": [
    "def readfileData(filename):\n",
    "    f=open(filename,'r')\n",
    "    filedata=f.readline()\n",
    "    filedata+=f.readline()\n",
    "    f.close()\n",
    "    return filedata\n",
    "\n",
    "readfileData('DataFiles/data.txt')"
   ]
  },
  {
   "cell_type": "code",
   "execution_count": 18,
   "metadata": {},
   "outputs": [
    {
     "name": "stdout",
     "output_type": "stream",
     "text": [
      "Data in line 1\n",
      "Data in line 2\n",
      "Data in line 3"
     ]
    }
   ],
   "source": [
    "def readfileData(filename):\n",
    "    with open(filename,'r') as f:\n",
    "        for line in f:\n",
    "            print(line,end='')\n",
    "    return \n",
    "readfileData('DataFiles/data.txt')"
   ]
  },
  {
   "cell_type": "code",
   "execution_count": 19,
   "metadata": {},
   "outputs": [
    {
     "name": "stdout",
     "output_type": "stream",
     "text": [
      "Data in line 1\n",
      "Data in line 2\n",
      "Data in line 3\n"
     ]
    }
   ],
   "source": [
    "def readfileData(filename):\n",
    "    with open(filename,'r') as f:\n",
    "        #for line in f:\n",
    "            #print(line,end='')\n",
    "        print(f.read())\n",
    "    return \n",
    "readfileData('DataFiles/data.txt')"
   ]
  },
  {
   "cell_type": "code",
   "execution_count": 36,
   "metadata": {},
   "outputs": [
    {
     "name": "stdout",
     "output_type": "stream",
     "text": [
      "data written into fileNamesecond line\n",
      "second line\n"
     ]
    }
   ],
   "source": [
    "def writeIntoFile(filename,data):\n",
    "    with open (filename,'w') as f:\n",
    "        f.write(data)\n",
    "    return\n",
    "\n",
    "writeIntoFile('DataFiles/fileWrite.txt','data written into fileName')"
   ]
  },
  {
   "cell_type": "code",
   "execution_count": 37,
   "metadata": {},
   "outputs": [],
   "source": [
    "def writeIntoFile(filename,data,mode):\n",
    "    with open (filename,'a') as f:\n",
    "        f.write(data)\n",
    "    return\n",
    "\n",
    "writeIntoFile('DataFiles/fileWrite.txt','\\nsecond line','a')"
   ]
  },
  {
   "cell_type": "code",
   "execution_count": 38,
   "metadata": {},
   "outputs": [
    {
     "name": "stdout",
     "output_type": "stream",
     "text": [
      "data written into fileName\n",
      "second line\n"
     ]
    }
   ],
   "source": [
    "def readfileData(filename):\n",
    "    with open(filename,'r') as f:\n",
    "        #for line in f:\n",
    "            #print(line,end='')\n",
    "        print(f.read())\n",
    "    return \n",
    "readfileData('DataFiles/fileWrite.txt')"
   ]
  },
  {
   "cell_type": "markdown",
   "metadata": {},
   "source": [
    "### Problem 1:\n",
    "\n",
    "\n",
    "### Problem Statement: define a function to generate a marks data file for 1300 students such that each marks is entered in a new  line.marks range from 0 to 100 as a ramdom numbers\n",
    "\n",
    "#### CONSTRAINTS: \n",
    "\n",
    "\n",
    "#### Test cases:\n",
    "* Test cases 1\n",
    "* Test cases 2\n",
    "* Test cases 3"
   ]
  },
  {
   "cell_type": "code",
   "execution_count": 56,
   "metadata": {},
   "outputs": [],
   "source": [
    "import random\n",
    "def generateMarksData(n,filename):\n",
    "    with open (filename,'w') as marksfile:\n",
    "        for i in range(0,n):\n",
    "            marks=random.randint(0,101)\n",
    "            marksfile.write(str(marks)+'\\n')\n",
    "    return\n",
    "generateMarksData(1300,'DataFiles\\marksData.txt')"
   ]
  },
  {
   "cell_type": "code",
   "execution_count": 77,
   "metadata": {},
   "outputs": [
    {
     "name": "stdout",
     "output_type": "stream",
     "text": [
      "Average: 50.43153846153846\n",
      "Max: 101.0\n",
      "Min: 0.0\n"
     ]
    }
   ],
   "source": [
    "import numpy as n\n",
    "def array(filename):\n",
    "            x = n.loadtxt(filename)\n",
    "            print('Average:', n.average(x))\n",
    "            print('Max:', n.max(x))\n",
    "            print('Min:', n.min(x))\n",
    "            return \n",
    "array('DataFiles\\marksData.txt')"
   ]
  },
  {
   "cell_type": "code",
   "execution_count": null,
   "metadata": {},
   "outputs": [],
   "source": []
  }
 ],
 "metadata": {
  "kernelspec": {
   "display_name": "Python 3",
   "language": "python",
   "name": "python3"
  },
  "language_info": {
   "codemirror_mode": {
    "name": "ipython",
    "version": 3
   },
   "file_extension": ".py",
   "mimetype": "text/x-python",
   "name": "python",
   "nbconvert_exporter": "python",
   "pygments_lexer": "ipython3",
   "version": "3.7.3"
  }
 },
 "nbformat": 4,
 "nbformat_minor": 2
}
