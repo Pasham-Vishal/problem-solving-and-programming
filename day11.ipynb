{
 "cells": [
  {
   "cell_type": "markdown",
   "metadata": {},
   "source": [
    "# problem solving and programming\n",
    "\n",
    "\n",
    "DAY NO:11\n",
    "\n",
    "DATE:09-05-2019\n",
    "\n",
    "# DAY OBJECTIVES\n",
    "1.*OBJECTIVE 1\n",
    "2.*OBJECTIVE2\n",
    "3.*OBJECTIVE3\n",
    " \n",
    " \n",
    " # PROBLEM 1\n",
    " \n",
    " \n",
    " # problem statement:\n",
    " \n",
    " \n",
    " \n",
    "   Design a procedure to perform Linear search on list of N unsorted numbers. It take an array and the key element to be searched and returns the index of the element of key element if found. Else returns -1\n",
    "   \n",
    "   ## constrains\n",
    "   \n",
    "   \n",
    "   ### test cases\n",
    "    LinearSearch( a[5,4,3,2,1], 4) -> 2\n",
    "    LinearSearch( a[90, 123, 324, 21, 56], 22) -> -1\n",
    "    LinearSearch( a[321,543,567,729,567)->2\n",
    "    "
   ]
  },
  {
   "cell_type": "code",
   "execution_count": 5,
   "metadata": {},
   "outputs": [
    {
     "name": "stdout",
     "output_type": "stream",
     "text": [
      "-1\n",
      "2\n"
     ]
    }
   ],
   "source": [
    " def LinearSearch(a,key):\n",
    "    for i in range(0,len(a)):\n",
    "        if(a[i]==key):\n",
    "            return i\n",
    "    return-1\n",
    "print(LinearSearch([15,12,9,6,3,-3],0)) \n",
    "print(LinearSearch([132,543,567,789],567))"
   ]
  },
  {
   "cell_type": "markdown",
   "metadata": {},
   "source": [
    "# problem 3\n",
    "\n",
    "## problem statement\n",
    "### palindrome\n",
    "\n",
    "  Design a procedure to determine if a given string is a Palindrome\n",
    "  \n",
    "  ### constrains\n",
    "  #### test cases\n",
    "  \n",
    "   Palindrome(\"racecar\") -> True\n",
    "   \n",
    "   Palindrome(\"raptor\") -> False"
   ]
  },
  {
   "cell_type": "code",
   "execution_count": null,
   "metadata": {},
   "outputs": [],
   "source": [
    "def palindrome(str1):\n"
   ]
  },
  {
   "cell_type": "markdown",
   "metadata": {},
   "source": [
    "# problem4\n",
    "# problem statement:\n",
    "\n",
    "\n",
    "\n",
    "\n",
    "Given 2 ints, a and b, return True if one if them is 10 or if their sum is 10.\n",
    "\n",
    "# constrains\n",
    "    \n",
    "    \n",
    "    \n",
    "### test cases\n",
    "\n",
    "makes10(9, 10) → True makes10(9, 9) → false\n",
    "makes10(1,9)→ true"
   ]
  },
  {
   "cell_type": "code",
   "execution_count": 7,
   "metadata": {},
   "outputs": [
    {
     "name": "stdout",
     "output_type": "stream",
     "text": [
      "True\n",
      "False\n",
      "True\n"
     ]
    }
   ],
   "source": [
    "def makes10(n1,n2):\n",
    "    if(n1+n2==10 or n1==10 or n2==10):\n",
    "        return True\n",
    "    else:\n",
    "        return False\n",
    "print(makes10(9, 10))\n",
    "print(makes10(9, 9))\n",
    "print(makes10(1,9))"
   ]
  },
  {
   "cell_type": "markdown",
   "metadata": {},
   "source": [
    "# problem5\n",
    "# problem statement:\n",
    "\n",
    "\n",
    "\n",
    "Given 2 int values, return True if one is negative and one is positive. Except if the parameter \"negative\" is True, then return True only if both are negative.\n",
    "\n",
    "\n",
    "\n",
    "\n",
    "# constrains\n",
    "    \n",
    "    \n",
    "    \n",
    "### test cases\n",
    "\n",
    "\n",
    "\n",
    "pos_neg(1, -1, False) → True\n",
    "pos_neg(-1, 1, False) → True\n",
    "pos_neg(-4, -5, True) → True"
   ]
  },
  {
   "cell_type": "code",
   "execution_count": 15,
   "metadata": {},
   "outputs": [
    {
     "name": "stdout",
     "output_type": "stream",
     "text": [
      "True\n",
      "True\n",
      "True\n"
     ]
    }
   ],
   "source": [
    "def neg_pos(n1,n2,a):\n",
    "    if (n1<0 and n2>0 and a== False) or (n1>0 and n2<0 and a== False) or (n1<0 and n2<0 and a== True):\n",
    "        return True\n",
    "    else:\n",
    "        return False\n",
    "print(neg_pos(1,-1,False))\n",
    "print(neg_pos(-1,1,False))\n",
    "print(neg_pos(-4,-5,True))\n",
    "    "
   ]
  },
  {
   "cell_type": "markdown",
   "metadata": {},
   "source": [
    "# problem 6\n",
    "# problem statement:\n",
    "\n",
    "\n",
    "Design a procedure to determine if a given string is a Palindrome\n",
    "\n",
    "### constarints\n",
    "\n",
    "\n",
    "#### testcases\n",
    "Palindrome(\"racecar\") -> True\n",
    "Palindrome(\"raptor\") -> False"
   ]
  },
  {
   "cell_type": "code",
   "execution_count": 19,
   "metadata": {},
   "outputs": [
    {
     "name": "stdout",
     "output_type": "stream",
     "text": [
      "True\n",
      "True\n"
     ]
    }
   ],
   "source": [
    "def palindrome(str1):\n",
    "    for i in range(0,len(str1)-1):\n",
    "        rev=(str1==(str1[::-1]))\n",
    "    return rev\n",
    "print(palindrome(\"123321\"))\n",
    "print(palindrome(\"racecar\"))"
   ]
  },
  {
   "cell_type": "markdown",
   "metadata": {},
   "source": [
    "# problem 8\n",
    "## problem statement \n",
    "\n",
    "\n",
    "Design a procedure to calculate the squareroot of a number \"without using the math function sqrt\".\n",
    "\n",
    "## test cases\n",
    "\n",
    "Squareroot(36) -> 6"
   ]
  },
  {
   "cell_type": "code",
   "execution_count": 22,
   "metadata": {},
   "outputs": [
    {
     "name": "stdout",
     "output_type": "stream",
     "text": [
      "6.0\n",
      "11015701.173723124\n"
     ]
    }
   ],
   "source": [
    "def sqrt(n1):\n",
    "    return n1**(1/2)\n",
    "print(sqrt(36))\n",
    "print(sqrt(121345672348765))"
   ]
  },
  {
   "cell_type": "markdown",
   "metadata": {},
   "source": [
    "\n",
    "\n",
    "## problem 9\n",
    "\n",
    "## problem statement\n",
    "\n",
    "\n",
    "\n",
    "Design a procedure to sort a given array in ascending order\n",
    "\n",
    "\n",
    "### testcases\n",
    "sort([3, 2, 1, 4, 4, 5, 6]) -> [1, 2, 3, 4, 4, 5, 6]\n",
    "sort([1, 2, 3]) -> [1, 2, 3]\n"
   ]
  },
  {
   "cell_type": "code",
   "execution_count": 33,
   "metadata": {},
   "outputs": [
    {
     "data": {
      "text/plain": [
       "[0, 2, 4, 4, 7, 8]"
      ]
     },
     "execution_count": 33,
     "metadata": {},
     "output_type": "execute_result"
    }
   ],
   "source": [
    "\n",
    "a=[2,4,7,8,4,0]\n",
    "a\n",
    "a.sort()\n",
    "a"
   ]
  },
  {
   "cell_type": "markdown",
   "metadata": {},
   "source": [
    "   # PROBLEM\n",
    "   \n",
    "   ## PROBLEM STATEMENT\n",
    "   \n",
    "   \n",
    "   \n",
    "   Given an int n, return True if it is within 10 of 100 or 200. Note: abs(num) computes the absolute value of a number.\n",
    "\n",
    "### TEST CASES\n",
    "near_hundred(93) → True\n",
    "near_hundred(90) → True\n",
    "near_hundred(89) → False"
   ]
  },
  {
   "cell_type": "code",
   "execution_count": 37,
   "metadata": {},
   "outputs": [
    {
     "name": "stdout",
     "output_type": "stream",
     "text": [
      "True\n",
      "True\n",
      "True\n"
     ]
    }
   ],
   "source": [
    "def near_100(n1):\n",
    "    return(n1<101 and n1>=89)\n",
    "    \n",
    "print(near_100(93))\n",
    "print(near_100(90))\n",
    "print(near_100(89))"
   ]
  },
  {
   "cell_type": "code",
   "execution_count": null,
   "metadata": {},
   "outputs": [],
   "source": []
  }
 ],
 "metadata": {
  "kernelspec": {
   "display_name": "Python 3",
   "language": "python",
   "name": "python3"
  },
  "language_info": {
   "codemirror_mode": {
    "name": "ipython",
    "version": 3
   },
   "file_extension": ".py",
   "mimetype": "text/x-python",
   "name": "python",
   "nbconvert_exporter": "python",
   "pygments_lexer": "ipython3",
   "version": "3.7.3"
  }
 },
 "nbformat": 4,
 "nbformat_minor": 2
}
